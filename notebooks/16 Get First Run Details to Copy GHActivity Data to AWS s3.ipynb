{
 "cells": [
  {
   "cell_type": "code",
   "execution_count": 1,
   "metadata": {},
   "outputs": [],
   "source": [
    "import boto3"
   ]
  },
  {
   "cell_type": "code",
   "execution_count": 2,
   "metadata": {},
   "outputs": [
    {
     "data": {
      "text/plain": [
       "'ghactivity'"
      ]
     },
     "execution_count": 2,
     "metadata": {},
     "output_type": "execute_result"
    }
   ],
   "source": [
    "import os\n",
    "os.environ.setdefault('AWS_PROFILE', 'ghactivity')"
   ]
  },
  {
   "cell_type": "code",
   "execution_count": 3,
   "metadata": {},
   "outputs": [],
   "source": [
    "dynamodb = boto3.resource('dynamodb')\n",
    "job_details_table = dynamodb.Table('jobs')"
   ]
  },
  {
   "cell_type": "code",
   "execution_count": 4,
   "metadata": {},
   "outputs": [
    {
     "data": {
      "text/plain": [
       "{'ResponseMetadata': {'RequestId': '419V7QU6IPPPUPOE7RJOQ60A1BVV4KQNSO5AEMVJF66Q9ASUAAJG',\n",
       "  'HTTPStatusCode': 200,\n",
       "  'HTTPHeaders': {'server': 'Server',\n",
       "   'date': 'Thu, 14 Sep 2023 12:14:30 GMT',\n",
       "   'content-type': 'application/x-amz-json-1.0',\n",
       "   'content-length': '2',\n",
       "   'connection': 'keep-alive',\n",
       "   'x-amzn-requestid': '419V7QU6IPPPUPOE7RJOQ60A1BVV4KQNSO5AEMVJF66Q9ASUAAJG',\n",
       "   'x-amz-crc32': '2745614147'},\n",
       "  'RetryAttempts': 0}}"
      ]
     },
     "execution_count": 4,
     "metadata": {},
     "output_type": "execute_result"
    }
   ],
   "source": [
    "job_details_table.delete_item(Key={'job_id': 'ghactivity_ingest'}) "
   ]
  },
  {
   "cell_type": "code",
   "execution_count": 5,
   "metadata": {},
   "outputs": [],
   "source": [
    "job_details = {\n",
    "    'job_id': 'ghactivity_ingest',\n",
    "    'job_description': 'Ingest ghactivity data to s3',\n",
    "    'is_active': 'Y',\n",
    "    'baseline_days': 3\n",
    "}"
   ]
  },
  {
   "cell_type": "code",
   "execution_count": 6,
   "metadata": {},
   "outputs": [
    {
     "data": {
      "text/plain": [
       "{'ResponseMetadata': {'RequestId': 'LKNU9K6NL31DTONT33KQ710O07VV4KQNSO5AEMVJF66Q9ASUAAJG',\n",
       "  'HTTPStatusCode': 200,\n",
       "  'HTTPHeaders': {'server': 'Server',\n",
       "   'date': 'Thu, 14 Sep 2023 12:15:04 GMT',\n",
       "   'content-type': 'application/x-amz-json-1.0',\n",
       "   'content-length': '2',\n",
       "   'connection': 'keep-alive',\n",
       "   'x-amzn-requestid': 'LKNU9K6NL31DTONT33KQ710O07VV4KQNSO5AEMVJF66Q9ASUAAJG',\n",
       "   'x-amz-crc32': '2745614147'},\n",
       "  'RetryAttempts': 0}}"
      ]
     },
     "execution_count": 6,
     "metadata": {},
     "output_type": "execute_result"
    }
   ],
   "source": [
    "job_details_table.put_item(Item=job_details)"
   ]
  },
  {
   "cell_type": "code",
   "execution_count": 7,
   "metadata": {},
   "outputs": [],
   "source": [
    "def get_job_details(job_name):\n",
    "    dynamodb = boto3.resource('dynamodb')\n",
    "    table = dynamodb.Table('jobs')\n",
    "    job_details = table.get_item(Key={'job_id': job_name})['Item']\n",
    "    return job_details"
   ]
  },
  {
   "cell_type": "code",
   "execution_count": 8,
   "metadata": {},
   "outputs": [
    {
     "data": {
      "text/plain": [
       "{'job_description': 'Ingest ghactivity data to s3',\n",
       " 'is_active': 'Y',\n",
       " 'job_id': 'ghactivity_ingest',\n",
       " 'baseline_days': Decimal('3')}"
      ]
     },
     "execution_count": 8,
     "metadata": {},
     "output_type": "execute_result"
    }
   ],
   "source": [
    "job_details = get_job_details('ghactivity_ingest')\n",
    "job_details"
   ]
  },
  {
   "cell_type": "code",
   "execution_count": 9,
   "metadata": {},
   "outputs": [],
   "source": [
    "from datetime import datetime as dt"
   ]
  },
  {
   "cell_type": "code",
   "execution_count": 10,
   "metadata": {},
   "outputs": [],
   "source": [
    "from datetime import timedelta as td"
   ]
  },
  {
   "cell_type": "code",
   "execution_count": 11,
   "metadata": {},
   "outputs": [
    {
     "data": {
      "text/plain": [
       "datetime.datetime(2023, 9, 14, 13, 16, 42, 979694)"
      ]
     },
     "execution_count": 11,
     "metadata": {},
     "output_type": "execute_result"
    }
   ],
   "source": [
    "dt.now()"
   ]
  },
  {
   "cell_type": "code",
   "execution_count": 14,
   "metadata": {},
   "outputs": [
    {
     "data": {
      "text/plain": [
       "datetime.date(2023, 9, 14)"
      ]
     },
     "execution_count": 14,
     "metadata": {},
     "output_type": "execute_result"
    }
   ],
   "source": [
    "dt.now().date()"
   ]
  },
  {
   "cell_type": "code",
   "execution_count": 15,
   "metadata": {},
   "outputs": [
    {
     "data": {
      "text/plain": [
       "datetime.date(2023, 9, 11)"
      ]
     },
     "execution_count": 15,
     "metadata": {},
     "output_type": "execute_result"
    }
   ],
   "source": [
    "dt.now().date() - td(days=3)"
   ]
  },
  {
   "cell_type": "code",
   "execution_count": 16,
   "metadata": {},
   "outputs": [
    {
     "data": {
      "text/plain": [
       "'2023-09-11-0.json.gz'"
      ]
     },
     "execution_count": 16,
     "metadata": {},
     "output_type": "execute_result"
    }
   ],
   "source": [
    "f'{dt.strftime(dt.now().date() - td(days=3), \"%Y-%m-%d\")}-0.json.gz'"
   ]
  },
  {
   "cell_type": "code",
   "execution_count": 17,
   "metadata": {},
   "outputs": [],
   "source": [
    "next_file = f'{dt.strftime(dt.now().date() - td(days=3), \"%Y-%m-%d\")}-0.json.gz'"
   ]
  },
  {
   "cell_type": "code",
   "execution_count": 18,
   "metadata": {},
   "outputs": [
    {
     "data": {
      "text/plain": [
       "'2023-09-11-0.json.gz'"
      ]
     },
     "execution_count": 18,
     "metadata": {},
     "output_type": "execute_result"
    }
   ],
   "source": [
    "next_file"
   ]
  },
  {
   "cell_type": "code",
   "execution_count": 19,
   "metadata": {},
   "outputs": [],
   "source": [
    "import requests"
   ]
  },
  {
   "cell_type": "code",
   "execution_count": 20,
   "metadata": {},
   "outputs": [],
   "source": [
    "res = requests.get(f'https://data.gharchive.org/{next_file}')"
   ]
  },
  {
   "cell_type": "code",
   "execution_count": 21,
   "metadata": {},
   "outputs": [],
   "source": [
    "file = open(f'data/{next_file}', 'wb')"
   ]
  },
  {
   "cell_type": "code",
   "execution_count": 22,
   "metadata": {},
   "outputs": [
    {
     "data": {
      "text/plain": [
       "70303756"
      ]
     },
     "execution_count": 22,
     "metadata": {},
     "output_type": "execute_result"
    }
   ],
   "source": [
    "file.write(res.content)"
   ]
  },
  {
   "cell_type": "code",
   "execution_count": 23,
   "metadata": {},
   "outputs": [],
   "source": [
    "file.close()"
   ]
  },
  {
   "cell_type": "code",
   "execution_count": 53,
   "metadata": {},
   "outputs": [
    {
     "name": "stdout",
     "output_type": "stream",
     "text": [
      "total 147608\n",
      "-rw-r--r--  1 itversity  staff       127 Jun  7 10:46 2022-06-07-8.json.gz\n",
      "-rw-r--r--  1 itversity  staff  41575819 Jun  7 11:02 2022-06-05-8.json.gz\n",
      "-rw-r--r--  1 itversity  staff  33989636 Jun  8 04:22 2022-06-05-0.json.gz\n"
     ]
    }
   ],
   "source": [
    "!ls -ltr data/"
   ]
  },
  {
   "cell_type": "code",
   "execution_count": 24,
   "metadata": {},
   "outputs": [],
   "source": [
    "import pandas as pd"
   ]
  },
  {
   "cell_type": "code",
   "execution_count": 25,
   "metadata": {},
   "outputs": [],
   "source": [
    "df = pd.read_json(\n",
    "    f'data/{next_file}', \n",
    "    lines=True, \n",
    "    orient='records'\n",
    ")"
   ]
  },
  {
   "cell_type": "code",
   "execution_count": 26,
   "metadata": {},
   "outputs": [
    {
     "data": {
      "text/html": [
       "<div>\n",
       "<style scoped>\n",
       "    .dataframe tbody tr th:only-of-type {\n",
       "        vertical-align: middle;\n",
       "    }\n",
       "\n",
       "    .dataframe tbody tr th {\n",
       "        vertical-align: top;\n",
       "    }\n",
       "\n",
       "    .dataframe thead th {\n",
       "        text-align: right;\n",
       "    }\n",
       "</style>\n",
       "<table border=\"1\" class=\"dataframe\">\n",
       "  <thead>\n",
       "    <tr style=\"text-align: right;\">\n",
       "      <th></th>\n",
       "      <th>id</th>\n",
       "      <th>type</th>\n",
       "      <th>actor</th>\n",
       "      <th>repo</th>\n",
       "      <th>payload</th>\n",
       "      <th>public</th>\n",
       "      <th>created_at</th>\n",
       "      <th>org</th>\n",
       "    </tr>\n",
       "  </thead>\n",
       "  <tbody>\n",
       "    <tr>\n",
       "      <th>0</th>\n",
       "      <td>31726112216</td>\n",
       "      <td>PushEvent</td>\n",
       "      <td>{'id': 111329684, 'login': 'B74LABgit', 'displ...</td>\n",
       "      <td>{'id': 684638644, 'name': 'B74LABgit/CAM', 'ur...</td>\n",
       "      <td>{'repository_id': 684638644, 'push_id': 149889...</td>\n",
       "      <td>True</td>\n",
       "      <td>2023-09-11 00:00:00+00:00</td>\n",
       "      <td>NaN</td>\n",
       "    </tr>\n",
       "    <tr>\n",
       "      <th>1</th>\n",
       "      <td>31726112221</td>\n",
       "      <td>PushEvent</td>\n",
       "      <td>{'id': 125916451, 'login': 'Sameshnee21', 'dis...</td>\n",
       "      <td>{'id': 677840347, 'name': 'Sameshnee21/2490510...</td>\n",
       "      <td>{'repository_id': 677840347, 'push_id': 149889...</td>\n",
       "      <td>True</td>\n",
       "      <td>2023-09-11 00:00:00+00:00</td>\n",
       "      <td>NaN</td>\n",
       "    </tr>\n",
       "    <tr>\n",
       "      <th>2</th>\n",
       "      <td>31726112231</td>\n",
       "      <td>PushEvent</td>\n",
       "      <td>{'id': 1794609, 'login': 'carlosleonardo', 'di...</td>\n",
       "      <td>{'id': 687203378, 'name': 'carlosleonardo/ToDo...</td>\n",
       "      <td>{'repository_id': 687203378, 'push_id': 149889...</td>\n",
       "      <td>True</td>\n",
       "      <td>2023-09-11 00:00:00+00:00</td>\n",
       "      <td>NaN</td>\n",
       "    </tr>\n",
       "    <tr>\n",
       "      <th>3</th>\n",
       "      <td>31726112235</td>\n",
       "      <td>PullRequestEvent</td>\n",
       "      <td>{'id': 64147848, 'login': 'yungsamd17', 'displ...</td>\n",
       "      <td>{'id': 677023791, 'name': 'yungsamd17/paycheck...</td>\n",
       "      <td>{'action': 'closed', 'number': 4, 'pull_reques...</td>\n",
       "      <td>True</td>\n",
       "      <td>2023-09-11 00:00:00+00:00</td>\n",
       "      <td>NaN</td>\n",
       "    </tr>\n",
       "    <tr>\n",
       "      <th>4</th>\n",
       "      <td>31726112236</td>\n",
       "      <td>PullRequestEvent</td>\n",
       "      <td>{'id': 41898282, 'login': 'github-actions[bot]...</td>\n",
       "      <td>{'id': 470320620, 'name': 'davidfletcher7/docu...</td>\n",
       "      <td>{'action': 'opened', 'number': 30, 'pull_reque...</td>\n",
       "      <td>True</td>\n",
       "      <td>2023-09-11 00:00:00+00:00</td>\n",
       "      <td>NaN</td>\n",
       "    </tr>\n",
       "    <tr>\n",
       "      <th>...</th>\n",
       "      <td>...</td>\n",
       "      <td>...</td>\n",
       "      <td>...</td>\n",
       "      <td>...</td>\n",
       "      <td>...</td>\n",
       "      <td>...</td>\n",
       "      <td>...</td>\n",
       "      <td>...</td>\n",
       "    </tr>\n",
       "    <tr>\n",
       "      <th>156176</th>\n",
       "      <td>31726665706</td>\n",
       "      <td>PushEvent</td>\n",
       "      <td>{'id': 41898282, 'login': 'github-actions[bot]...</td>\n",
       "      <td>{'id': 684091149, 'name': 'Matthias-Zax/Matthi...</td>\n",
       "      <td>{'repository_id': 684091149, 'push_id': 149892...</td>\n",
       "      <td>True</td>\n",
       "      <td>2023-09-11 00:59:59+00:00</td>\n",
       "      <td>NaN</td>\n",
       "    </tr>\n",
       "    <tr>\n",
       "      <th>156177</th>\n",
       "      <td>31726665708</td>\n",
       "      <td>DeleteEvent</td>\n",
       "      <td>{'id': 49699333, 'login': 'dependabot[bot]', '...</td>\n",
       "      <td>{'id': 336129858, 'name': 'nczitzk/RSSHub', 'u...</td>\n",
       "      <td>{'ref': 'dependabot/github_actions/actions/che...</td>\n",
       "      <td>True</td>\n",
       "      <td>2023-09-11 00:59:59+00:00</td>\n",
       "      <td>NaN</td>\n",
       "    </tr>\n",
       "    <tr>\n",
       "      <th>156178</th>\n",
       "      <td>31726665712</td>\n",
       "      <td>PushEvent</td>\n",
       "      <td>{'id': 77761206, 'login': 'mentalcaries', 'dis...</td>\n",
       "      <td>{'id': 665527349, 'name': 'mentalcaries/connec...</td>\n",
       "      <td>{'repository_id': 665527349, 'push_id': 149892...</td>\n",
       "      <td>True</td>\n",
       "      <td>2023-09-11 00:59:59+00:00</td>\n",
       "      <td>NaN</td>\n",
       "    </tr>\n",
       "    <tr>\n",
       "      <th>156179</th>\n",
       "      <td>31726665715</td>\n",
       "      <td>PushEvent</td>\n",
       "      <td>{'id': 41898282, 'login': 'github-actions[bot]...</td>\n",
       "      <td>{'id': 670569644, 'name': 'BiologyHazard/Biolo...</td>\n",
       "      <td>{'repository_id': 670569644, 'push_id': 149892...</td>\n",
       "      <td>True</td>\n",
       "      <td>2023-09-11 00:59:59+00:00</td>\n",
       "      <td>NaN</td>\n",
       "    </tr>\n",
       "    <tr>\n",
       "      <th>156180</th>\n",
       "      <td>31726665725</td>\n",
       "      <td>PushEvent</td>\n",
       "      <td>{'id': 41898282, 'login': 'github-actions[bot]...</td>\n",
       "      <td>{'id': 281410310, 'name': 'mroccyen/MrocCyen',...</td>\n",
       "      <td>{'repository_id': 281410310, 'push_id': 149892...</td>\n",
       "      <td>True</td>\n",
       "      <td>2023-09-11 00:59:59+00:00</td>\n",
       "      <td>NaN</td>\n",
       "    </tr>\n",
       "  </tbody>\n",
       "</table>\n",
       "<p>156181 rows × 8 columns</p>\n",
       "</div>"
      ],
      "text/plain": [
       "                 id              type  \\\n",
       "0       31726112216         PushEvent   \n",
       "1       31726112221         PushEvent   \n",
       "2       31726112231         PushEvent   \n",
       "3       31726112235  PullRequestEvent   \n",
       "4       31726112236  PullRequestEvent   \n",
       "...             ...               ...   \n",
       "156176  31726665706         PushEvent   \n",
       "156177  31726665708       DeleteEvent   \n",
       "156178  31726665712         PushEvent   \n",
       "156179  31726665715         PushEvent   \n",
       "156180  31726665725         PushEvent   \n",
       "\n",
       "                                                    actor  \\\n",
       "0       {'id': 111329684, 'login': 'B74LABgit', 'displ...   \n",
       "1       {'id': 125916451, 'login': 'Sameshnee21', 'dis...   \n",
       "2       {'id': 1794609, 'login': 'carlosleonardo', 'di...   \n",
       "3       {'id': 64147848, 'login': 'yungsamd17', 'displ...   \n",
       "4       {'id': 41898282, 'login': 'github-actions[bot]...   \n",
       "...                                                   ...   \n",
       "156176  {'id': 41898282, 'login': 'github-actions[bot]...   \n",
       "156177  {'id': 49699333, 'login': 'dependabot[bot]', '...   \n",
       "156178  {'id': 77761206, 'login': 'mentalcaries', 'dis...   \n",
       "156179  {'id': 41898282, 'login': 'github-actions[bot]...   \n",
       "156180  {'id': 41898282, 'login': 'github-actions[bot]...   \n",
       "\n",
       "                                                     repo  \\\n",
       "0       {'id': 684638644, 'name': 'B74LABgit/CAM', 'ur...   \n",
       "1       {'id': 677840347, 'name': 'Sameshnee21/2490510...   \n",
       "2       {'id': 687203378, 'name': 'carlosleonardo/ToDo...   \n",
       "3       {'id': 677023791, 'name': 'yungsamd17/paycheck...   \n",
       "4       {'id': 470320620, 'name': 'davidfletcher7/docu...   \n",
       "...                                                   ...   \n",
       "156176  {'id': 684091149, 'name': 'Matthias-Zax/Matthi...   \n",
       "156177  {'id': 336129858, 'name': 'nczitzk/RSSHub', 'u...   \n",
       "156178  {'id': 665527349, 'name': 'mentalcaries/connec...   \n",
       "156179  {'id': 670569644, 'name': 'BiologyHazard/Biolo...   \n",
       "156180  {'id': 281410310, 'name': 'mroccyen/MrocCyen',...   \n",
       "\n",
       "                                                  payload  public  \\\n",
       "0       {'repository_id': 684638644, 'push_id': 149889...    True   \n",
       "1       {'repository_id': 677840347, 'push_id': 149889...    True   \n",
       "2       {'repository_id': 687203378, 'push_id': 149889...    True   \n",
       "3       {'action': 'closed', 'number': 4, 'pull_reques...    True   \n",
       "4       {'action': 'opened', 'number': 30, 'pull_reque...    True   \n",
       "...                                                   ...     ...   \n",
       "156176  {'repository_id': 684091149, 'push_id': 149892...    True   \n",
       "156177  {'ref': 'dependabot/github_actions/actions/che...    True   \n",
       "156178  {'repository_id': 665527349, 'push_id': 149892...    True   \n",
       "156179  {'repository_id': 670569644, 'push_id': 149892...    True   \n",
       "156180  {'repository_id': 281410310, 'push_id': 149892...    True   \n",
       "\n",
       "                      created_at  org  \n",
       "0      2023-09-11 00:00:00+00:00  NaN  \n",
       "1      2023-09-11 00:00:00+00:00  NaN  \n",
       "2      2023-09-11 00:00:00+00:00  NaN  \n",
       "3      2023-09-11 00:00:00+00:00  NaN  \n",
       "4      2023-09-11 00:00:00+00:00  NaN  \n",
       "...                          ...  ...  \n",
       "156176 2023-09-11 00:59:59+00:00  NaN  \n",
       "156177 2023-09-11 00:59:59+00:00  NaN  \n",
       "156178 2023-09-11 00:59:59+00:00  NaN  \n",
       "156179 2023-09-11 00:59:59+00:00  NaN  \n",
       "156180 2023-09-11 00:59:59+00:00  NaN  \n",
       "\n",
       "[156181 rows x 8 columns]"
      ]
     },
     "execution_count": 26,
     "metadata": {},
     "output_type": "execute_result"
    }
   ],
   "source": [
    "df"
   ]
  },
  {
   "cell_type": "code",
   "execution_count": 27,
   "metadata": {},
   "outputs": [
    {
     "data": {
      "text/plain": [
       "id            156181\n",
       "type          156181\n",
       "actor         156181\n",
       "repo          156181\n",
       "payload       156181\n",
       "public        156181\n",
       "created_at    156181\n",
       "org            29817\n",
       "dtype: int64"
      ]
     },
     "execution_count": 27,
     "metadata": {},
     "output_type": "execute_result"
    }
   ],
   "source": [
    "df.count()"
   ]
  },
  {
   "cell_type": "code",
   "execution_count": 28,
   "metadata": {},
   "outputs": [
    {
     "data": {
      "text/plain": [
       "Index(['id', 'type', 'actor', 'repo', 'payload', 'public', 'created_at',\n",
       "       'org'],\n",
       "      dtype='object')"
      ]
     },
     "execution_count": 28,
     "metadata": {},
     "output_type": "execute_result"
    }
   ],
   "source": [
    "df.columns"
   ]
  },
  {
   "cell_type": "code",
   "execution_count": 29,
   "metadata": {},
   "outputs": [
    {
     "data": {
      "text/plain": [
       "id                          int64\n",
       "type                       object\n",
       "actor                      object\n",
       "repo                       object\n",
       "payload                    object\n",
       "public                       bool\n",
       "created_at    datetime64[ns, UTC]\n",
       "org                        object\n",
       "dtype: object"
      ]
     },
     "execution_count": 29,
     "metadata": {},
     "output_type": "execute_result"
    }
   ],
   "source": [
    "df.dtypes"
   ]
  },
  {
   "cell_type": "code",
   "execution_count": 33,
   "metadata": {},
   "outputs": [
    {
     "name": "stdout",
     "output_type": "stream",
     "text": [
      "Duplicate Values:\n",
      "Empty DataFrame\n",
      "Columns: [id, type, actor, repo, payload, public, created_at, org]\n",
      "Index: []\n",
      "Number of Duplicate Values in 'id': 0\n"
     ]
    }
   ],
   "source": [
    "# Check for duplicate values in the specified column\n",
    "duplicates = df[df.duplicated(subset=column_name, keep=False)]\n",
    "\n",
    "# Count the number of duplicate values\n",
    "duplicate_count = len(duplicates)\n",
    "\n",
    "# Print the duplicate values and their count\n",
    "print(\"Duplicate Values:\")\n",
    "print(duplicates)\n",
    "print(f\"Number of Duplicate Values in '{column_name}': {duplicate_count}\")"
   ]
  }
 ],
 "metadata": {
  "interpreter": {
   "hash": "4bcd215c4a14989c946b0b0624b2d9cd8bc3b4ff7a1c5d476ef679e9df9c7085"
  },
  "kernelspec": {
   "display_name": "Python 3.9.12 ('ga-venv': venv)",
   "language": "python",
   "name": "python3"
  },
  "language_info": {
   "codemirror_mode": {
    "name": "ipython",
    "version": 3
   },
   "file_extension": ".py",
   "mimetype": "text/x-python",
   "name": "python",
   "nbconvert_exporter": "python",
   "pygments_lexer": "ipython3",
   "version": "3.9.13"
  },
  "orig_nbformat": 4
 },
 "nbformat": 4,
 "nbformat_minor": 2
}
