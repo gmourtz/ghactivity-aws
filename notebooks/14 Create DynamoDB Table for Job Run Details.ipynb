{
 "cells": [
  {
   "cell_type": "code",
   "execution_count": 1,
   "metadata": {},
   "outputs": [],
   "source": [
    "import boto3"
   ]
  },
  {
   "cell_type": "code",
   "execution_count": 2,
   "metadata": {},
   "outputs": [
    {
     "data": {
      "text/plain": [
       "'ghactivity'"
      ]
     },
     "execution_count": 2,
     "metadata": {},
     "output_type": "execute_result"
    }
   ],
   "source": [
    "import os\n",
    "os.environ.setdefault('AWS_PROFILE', 'ghactivity')"
   ]
  },
  {
   "cell_type": "code",
   "execution_count": 3,
   "metadata": {},
   "outputs": [],
   "source": [
    "dynamo_client = boto3.client('dynamodb')"
   ]
  },
  {
   "cell_type": "code",
   "execution_count": 4,
   "metadata": {},
   "outputs": [
    {
     "data": {
      "text/plain": [
       "{'TableNames': ['jobs'],\n",
       " 'ResponseMetadata': {'RequestId': '8D694TGEK5S7R0IMAUJFNJ9TMVVV4KQNSO5AEMVJF66Q9ASUAAJG',\n",
       "  'HTTPStatusCode': 200,\n",
       "  'HTTPHeaders': {'server': 'Server',\n",
       "   'date': 'Thu, 14 Sep 2023 12:05:59 GMT',\n",
       "   'content-type': 'application/x-amz-json-1.0',\n",
       "   'content-length': '23',\n",
       "   'connection': 'keep-alive',\n",
       "   'x-amzn-requestid': '8D694TGEK5S7R0IMAUJFNJ9TMVVV4KQNSO5AEMVJF66Q9ASUAAJG',\n",
       "   'x-amz-crc32': '312962171'},\n",
       "  'RetryAttempts': 0}}"
      ]
     },
     "execution_count": 4,
     "metadata": {},
     "output_type": "execute_result"
    }
   ],
   "source": [
    "dynamo_client.list_tables()"
   ]
  },
  {
   "cell_type": "code",
   "execution_count": 5,
   "metadata": {},
   "outputs": [
    {
     "ename": "ResourceNotFoundException",
     "evalue": "An error occurred (ResourceNotFoundException) when calling the DeleteTable operation: Requested resource not found: Table: job_run_details not found",
     "output_type": "error",
     "traceback": [
      "\u001b[1;31m---------------------------------------------------------------------------\u001b[0m",
      "\u001b[1;31mResourceNotFoundException\u001b[0m                 Traceback (most recent call last)",
      "\u001b[1;32mc:\\Users\\GeorgiosMourtzinos\\Desktop\\mastering-aws-lambda-functions\\ghactivity-aws\\notebooks\\14 Create DynamoDB Table for Job Run Details.ipynb Cell 5\u001b[0m line \u001b[0;36m1\n\u001b[1;32m----> <a href='vscode-notebook-cell:/c%3A/Users/GeorgiosMourtzinos/Desktop/mastering-aws-lambda-functions/ghactivity-aws/notebooks/14%20Create%20DynamoDB%20Table%20for%20Job%20Run%20Details.ipynb#W4sZmlsZQ%3D%3D?line=0'>1</a>\u001b[0m dynamo_client\u001b[39m.\u001b[39;49mdelete_table(TableName\u001b[39m=\u001b[39;49m\u001b[39m'\u001b[39;49m\u001b[39mjob_run_details\u001b[39;49m\u001b[39m'\u001b[39;49m)\n",
      "File \u001b[1;32mc:\\Users\\GeorgiosMourtzinos\\Desktop\\mastering-aws-lambda-functions\\ga-venv\\lib\\site-packages\\botocore\\client.py:535\u001b[0m, in \u001b[0;36mClientCreator._create_api_method.<locals>._api_call\u001b[1;34m(self, *args, **kwargs)\u001b[0m\n\u001b[0;32m    531\u001b[0m     \u001b[39mraise\u001b[39;00m \u001b[39mTypeError\u001b[39;00m(\n\u001b[0;32m    532\u001b[0m         \u001b[39mf\u001b[39m\u001b[39m\"\u001b[39m\u001b[39m{\u001b[39;00mpy_operation_name\u001b[39m}\u001b[39;00m\u001b[39m() only accepts keyword arguments.\u001b[39m\u001b[39m\"\u001b[39m\n\u001b[0;32m    533\u001b[0m     )\n\u001b[0;32m    534\u001b[0m \u001b[39m# The \"self\" in this scope is referring to the BaseClient.\u001b[39;00m\n\u001b[1;32m--> 535\u001b[0m \u001b[39mreturn\u001b[39;00m \u001b[39mself\u001b[39;49m\u001b[39m.\u001b[39;49m_make_api_call(operation_name, kwargs)\n",
      "File \u001b[1;32mc:\\Users\\GeorgiosMourtzinos\\Desktop\\mastering-aws-lambda-functions\\ga-venv\\lib\\site-packages\\botocore\\client.py:980\u001b[0m, in \u001b[0;36mBaseClient._make_api_call\u001b[1;34m(self, operation_name, api_params)\u001b[0m\n\u001b[0;32m    978\u001b[0m     error_code \u001b[39m=\u001b[39m parsed_response\u001b[39m.\u001b[39mget(\u001b[39m\"\u001b[39m\u001b[39mError\u001b[39m\u001b[39m\"\u001b[39m, {})\u001b[39m.\u001b[39mget(\u001b[39m\"\u001b[39m\u001b[39mCode\u001b[39m\u001b[39m\"\u001b[39m)\n\u001b[0;32m    979\u001b[0m     error_class \u001b[39m=\u001b[39m \u001b[39mself\u001b[39m\u001b[39m.\u001b[39mexceptions\u001b[39m.\u001b[39mfrom_code(error_code)\n\u001b[1;32m--> 980\u001b[0m     \u001b[39mraise\u001b[39;00m error_class(parsed_response, operation_name)\n\u001b[0;32m    981\u001b[0m \u001b[39melse\u001b[39;00m:\n\u001b[0;32m    982\u001b[0m     \u001b[39mreturn\u001b[39;00m parsed_response\n",
      "\u001b[1;31mResourceNotFoundException\u001b[0m: An error occurred (ResourceNotFoundException) when calling the DeleteTable operation: Requested resource not found: Table: job_run_details not found"
     ]
    }
   ],
   "source": [
    "dynamo_client.delete_table(TableName='job_run_details')"
   ]
  },
  {
   "cell_type": "code",
   "execution_count": 6,
   "metadata": {},
   "outputs": [],
   "source": [
    "response = dynamo_client.create_table(\n",
    "    AttributeDefinitions=[\n",
    "        {\n",
    "            'AttributeName': 'job_id',\n",
    "            'AttributeType': 'S'\n",
    "        },\n",
    "                {\n",
    "            'AttributeName': 'job_run_time',\n",
    "            'AttributeType': 'N'\n",
    "        }\n",
    "    ],\n",
    "    TableName='job_run_details',\n",
    "    KeySchema=[\n",
    "        {\n",
    "          'AttributeName': 'job_id',\n",
    "          'KeyType': 'HASH'\n",
    "        },\n",
    "        {\n",
    "          'AttributeName': 'job_run_time',\n",
    "          'KeyType': 'RANGE'\n",
    "        },        \n",
    "    ],\n",
    "    BillingMode='PAY_PER_REQUEST'\n",
    ")"
   ]
  },
  {
   "cell_type": "code",
   "execution_count": 7,
   "metadata": {},
   "outputs": [
    {
     "data": {
      "text/plain": [
       "{'TableDescription': {'AttributeDefinitions': [{'AttributeName': 'job_id',\n",
       "    'AttributeType': 'S'},\n",
       "   {'AttributeName': 'job_run_time', 'AttributeType': 'N'}],\n",
       "  'TableName': 'job_run_details',\n",
       "  'KeySchema': [{'AttributeName': 'job_id', 'KeyType': 'HASH'},\n",
       "   {'AttributeName': 'job_run_time', 'KeyType': 'RANGE'}],\n",
       "  'TableStatus': 'CREATING',\n",
       "  'CreationDateTime': datetime.datetime(2023, 9, 14, 13, 6, 14, 694000, tzinfo=tzlocal()),\n",
       "  'ProvisionedThroughput': {'NumberOfDecreasesToday': 0,\n",
       "   'ReadCapacityUnits': 0,\n",
       "   'WriteCapacityUnits': 0},\n",
       "  'TableSizeBytes': 0,\n",
       "  'ItemCount': 0,\n",
       "  'TableArn': 'arn:aws:dynamodb:us-east-1:163693469465:table/job_run_details',\n",
       "  'TableId': '60b66717-73c6-4426-b69a-d59925549537',\n",
       "  'BillingModeSummary': {'BillingMode': 'PAY_PER_REQUEST'},\n",
       "  'DeletionProtectionEnabled': False},\n",
       " 'ResponseMetadata': {'RequestId': 'BBV24JCHA7KHK8BDFURU1LBPF7VV4KQNSO5AEMVJF66Q9ASUAAJG',\n",
       "  'HTTPStatusCode': 200,\n",
       "  'HTTPHeaders': {'server': 'Server',\n",
       "   'date': 'Thu, 14 Sep 2023 12:06:14 GMT',\n",
       "   'content-type': 'application/x-amz-json-1.0',\n",
       "   'content-length': '762',\n",
       "   'connection': 'keep-alive',\n",
       "   'x-amzn-requestid': 'BBV24JCHA7KHK8BDFURU1LBPF7VV4KQNSO5AEMVJF66Q9ASUAAJG',\n",
       "   'x-amz-crc32': '4039178412'},\n",
       "  'RetryAttempts': 0}}"
      ]
     },
     "execution_count": 7,
     "metadata": {},
     "output_type": "execute_result"
    }
   ],
   "source": [
    "response"
   ]
  },
  {
   "cell_type": "code",
   "execution_count": 8,
   "metadata": {},
   "outputs": [
    {
     "data": {
      "text/plain": [
       "{'TableNames': ['job_run_details', 'jobs'],\n",
       " 'ResponseMetadata': {'RequestId': 'EE6U2MF3TA218HKT345RCTLSSBVV4KQNSO5AEMVJF66Q9ASUAAJG',\n",
       "  'HTTPStatusCode': 200,\n",
       "  'HTTPHeaders': {'server': 'Server',\n",
       "   'date': 'Thu, 14 Sep 2023 12:07:40 GMT',\n",
       "   'content-type': 'application/x-amz-json-1.0',\n",
       "   'content-length': '41',\n",
       "   'connection': 'keep-alive',\n",
       "   'x-amzn-requestid': 'EE6U2MF3TA218HKT345RCTLSSBVV4KQNSO5AEMVJF66Q9ASUAAJG',\n",
       "   'x-amz-crc32': '3073332947'},\n",
       "  'RetryAttempts': 0}}"
      ]
     },
     "execution_count": 8,
     "metadata": {},
     "output_type": "execute_result"
    }
   ],
   "source": [
    "dynamo_client.list_tables()"
   ]
  },
  {
   "cell_type": "code",
   "execution_count": 10,
   "metadata": {},
   "outputs": [
    {
     "data": {
      "text/plain": [
       "{'Table': {'AttributeDefinitions': [{'AttributeName': 'job_id',\n",
       "    'AttributeType': 'S'},\n",
       "   {'AttributeName': 'job_run_time', 'AttributeType': 'N'}],\n",
       "  'TableName': 'job_run_details',\n",
       "  'KeySchema': [{'AttributeName': 'job_id', 'KeyType': 'HASH'},\n",
       "   {'AttributeName': 'job_run_time', 'KeyType': 'RANGE'}],\n",
       "  'TableStatus': 'ACTIVE',\n",
       "  'CreationDateTime': datetime.datetime(2022, 6, 7, 10, 10, 57, 659000, tzinfo=tzlocal()),\n",
       "  'ProvisionedThroughput': {'NumberOfDecreasesToday': 0,\n",
       "   'ReadCapacityUnits': 0,\n",
       "   'WriteCapacityUnits': 0},\n",
       "  'TableSizeBytes': 0,\n",
       "  'ItemCount': 0,\n",
       "  'TableArn': 'arn:aws:dynamodb:us-east-1:269066542444:table/job_run_details',\n",
       "  'TableId': 'abd53c13-eaa7-4d51-ad08-d1c4445daa36',\n",
       "  'BillingModeSummary': {'BillingMode': 'PAY_PER_REQUEST',\n",
       "   'LastUpdateToPayPerRequestDateTime': datetime.datetime(2022, 6, 7, 10, 10, 57, 659000, tzinfo=tzlocal())}},\n",
       " 'ResponseMetadata': {'RequestId': 'P307P2T10I682L748KPPM3E5MJVV4KQNSO5AEMVJF66Q9ASUAAJG',\n",
       "  'HTTPStatusCode': 200,\n",
       "  'HTTPHeaders': {'server': 'Server',\n",
       "   'date': 'Tue, 07 Jun 2022 04:45:20 GMT',\n",
       "   'content-type': 'application/x-amz-json-1.0',\n",
       "   'content-length': '821',\n",
       "   'connection': 'keep-alive',\n",
       "   'x-amzn-requestid': 'P307P2T10I682L748KPPM3E5MJVV4KQNSO5AEMVJF66Q9ASUAAJG',\n",
       "   'x-amz-crc32': '1531614386'},\n",
       "  'RetryAttempts': 0}}"
      ]
     },
     "execution_count": 10,
     "metadata": {},
     "output_type": "execute_result"
    }
   ],
   "source": [
    "dynamo_client.describe_table(TableName='job_run_details')"
   ]
  },
  {
   "cell_type": "code",
   "execution_count": 9,
   "metadata": {},
   "outputs": [],
   "source": [
    "dynamodb_resource = boto3.resource('dynamodb')"
   ]
  },
  {
   "cell_type": "code",
   "execution_count": 10,
   "metadata": {},
   "outputs": [],
   "source": [
    "job_details_table = dynamodb_resource.Table('job_run_details')"
   ]
  },
  {
   "cell_type": "code",
   "execution_count": 11,
   "metadata": {},
   "outputs": [],
   "source": [
    "import time\n",
    "import datetime"
   ]
  },
  {
   "cell_type": "code",
   "execution_count": 12,
   "metadata": {},
   "outputs": [
    {
     "data": {
      "text/plain": [
       "1694693314"
      ]
     },
     "execution_count": 12,
     "metadata": {},
     "output_type": "execute_result"
    }
   ],
   "source": [
    "int(time.mktime(datetime.datetime.now().timetuple()))"
   ]
  },
  {
   "cell_type": "code",
   "execution_count": 13,
   "metadata": {},
   "outputs": [],
   "source": [
    "jrd_item = {\n",
    "    'job_id': 'ghactivity_ingest',\n",
    "    'job_run_time': int(time.mktime(datetime.datetime.now().timetuple())),\n",
    "    'job_run_bookmark_details': {\n",
    "        'processed_file_name': '2022-06-03-0.json.gz'\n",
    "    }\n",
    "}"
   ]
  },
  {
   "cell_type": "code",
   "execution_count": 14,
   "metadata": {},
   "outputs": [
    {
     "data": {
      "text/plain": [
       "{'job_id': 'ghactivity_ingest',\n",
       " 'job_run_time': 1694693341,\n",
       " 'job_run_bookmark_details': {'processed_file_name': '2022-06-03-0.json.gz'}}"
      ]
     },
     "execution_count": 14,
     "metadata": {},
     "output_type": "execute_result"
    }
   ],
   "source": [
    "jrd_item"
   ]
  },
  {
   "cell_type": "code",
   "execution_count": 15,
   "metadata": {},
   "outputs": [
    {
     "data": {
      "text/plain": [
       "{'ResponseMetadata': {'RequestId': 'B5OUGE72HM4FTNGE27D9PKFUJ3VV4KQNSO5AEMVJF66Q9ASUAAJG',\n",
       "  'HTTPStatusCode': 200,\n",
       "  'HTTPHeaders': {'server': 'Server',\n",
       "   'date': 'Thu, 14 Sep 2023 12:09:30 GMT',\n",
       "   'content-type': 'application/x-amz-json-1.0',\n",
       "   'content-length': '2',\n",
       "   'connection': 'keep-alive',\n",
       "   'x-amzn-requestid': 'B5OUGE72HM4FTNGE27D9PKFUJ3VV4KQNSO5AEMVJF66Q9ASUAAJG',\n",
       "   'x-amz-crc32': '2745614147'},\n",
       "  'RetryAttempts': 0}}"
      ]
     },
     "execution_count": 15,
     "metadata": {},
     "output_type": "execute_result"
    }
   ],
   "source": [
    "job_details_table.put_item(\n",
    "    Item=jrd_item\n",
    ")"
   ]
  },
  {
   "cell_type": "code",
   "execution_count": 16,
   "metadata": {},
   "outputs": [
    {
     "data": {
      "text/plain": [
       "{'Items': [{'job_id': 'ghactivity_ingest',\n",
       "   'job_run_bookmark_details': {'processed_file_name': '2022-06-03-0.json.gz'},\n",
       "   'job_run_time': Decimal('1694693341')}],\n",
       " 'Count': 1,\n",
       " 'ScannedCount': 1,\n",
       " 'ResponseMetadata': {'RequestId': '4QBIOF07MCMV8L0687FMDRF18BVV4KQNSO5AEMVJF66Q9ASUAAJG',\n",
       "  'HTTPStatusCode': 200,\n",
       "  'HTTPHeaders': {'server': 'Server',\n",
       "   'date': 'Thu, 14 Sep 2023 12:09:44 GMT',\n",
       "   'content-type': 'application/x-amz-json-1.0',\n",
       "   'content-length': '195',\n",
       "   'connection': 'keep-alive',\n",
       "   'x-amzn-requestid': '4QBIOF07MCMV8L0687FMDRF18BVV4KQNSO5AEMVJF66Q9ASUAAJG',\n",
       "   'x-amz-crc32': '1866299858'},\n",
       "  'RetryAttempts': 0}}"
      ]
     },
     "execution_count": 16,
     "metadata": {},
     "output_type": "execute_result"
    }
   ],
   "source": [
    "job_details_table.scan()"
   ]
  },
  {
   "cell_type": "code",
   "execution_count": null,
   "metadata": {},
   "outputs": [],
   "source": []
  }
 ],
 "metadata": {
  "interpreter": {
   "hash": "4bcd215c4a14989c946b0b0624b2d9cd8bc3b4ff7a1c5d476ef679e9df9c7085"
  },
  "kernelspec": {
   "display_name": "Python 3.9.12 ('ga-venv': venv)",
   "language": "python",
   "name": "python3"
  },
  "language_info": {
   "codemirror_mode": {
    "name": "ipython",
    "version": 3
   },
   "file_extension": ".py",
   "mimetype": "text/x-python",
   "name": "python",
   "nbconvert_exporter": "python",
   "pygments_lexer": "ipython3",
   "version": "3.9.13"
  },
  "orig_nbformat": 4
 },
 "nbformat": 4,
 "nbformat_minor": 2
}
